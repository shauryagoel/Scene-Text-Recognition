{
  "nbformat": 4,
  "nbformat_minor": 0,
  "metadata": {
    "colab": {
      "name": "Scene text recognition training",
      "provenance": [],
      "collapsed_sections": []
    },
    "kernelspec": {
      "name": "python3",
      "display_name": "Python 3"
    },
    "accelerator": "GPU"
  },
  "cells": [
    {
      "cell_type": "markdown",
      "metadata": {
        "id": "o8Q9IUObdgAF",
        "colab_type": "text"
      },
      "source": [
        "This notebook contains training code for recognising text from images.  "
      ]
    },
    {
      "cell_type": "code",
      "metadata": {
        "id": "fBKTzi3rbQHV",
        "colab_type": "code",
        "colab": {}
      },
      "source": [
        "# Import all libraries\n",
        "import numpy as np\n",
        "import matplotlib.pyplot as plt\n",
        "from matplotlib.offsetbox import OffsetImage, AnnotationBbox\n",
        "import pandas as pd\n",
        "\n",
        "import torch\n",
        "import torch.nn as nn\n",
        "import torch.nn.functional as F\n",
        "import torch.optim as optim\n",
        "from torch.utils.data import Dataset, DataLoader\n",
        "import torchvision\n",
        "import torchvision.datasets as datasets\n",
        "import torchvision.transforms as transforms\n",
        "import torchvision.models as models\n",
        "\n",
        "from sklearn.model_selection import train_test_split\n",
        "\n",
        "from pathlib import Path\n",
        "from skimage import io, transform\n",
        "from PIL import Image\n",
        "import copy,os,sys\n",
        "import random\n",
        "import math\n",
        "import pickle\n",
        "import string\n",
        "\n",
        "device = torch.device(\"cuda\" if torch.cuda.is_available() else \"cpu\")\n",
        "\n",
        "%reload_ext autoreload\n",
        "%autoreload 2\n",
        "%matplotlib inline"
      ],
      "execution_count": 0,
      "outputs": []
    },
    {
      "cell_type": "code",
      "metadata": {
        "id": "3IGVh1OHjk05",
        "colab_type": "code",
        "outputId": "ffa07261-428e-497f-a26d-f249a064eea4",
        "colab": {
          "base_uri": "https://localhost:8080/",
          "height": 122
        }
      },
      "source": [
        "from google.colab import drive\n",
        "drive.mount('/content/drive')"
      ],
      "execution_count": 5,
      "outputs": [
        {
          "output_type": "stream",
          "text": [
            "Go to this URL in a browser: https://accounts.google.com/o/oauth2/auth?client_id=947318989803-6bn6qk8qdgf4n4g3pfee6491hc0brc4i.apps.googleusercontent.com&redirect_uri=urn%3aietf%3awg%3aoauth%3a2.0%3aoob&response_type=code&scope=email%20https%3a%2f%2fwww.googleapis.com%2fauth%2fdocs.test%20https%3a%2f%2fwww.googleapis.com%2fauth%2fdrive%20https%3a%2f%2fwww.googleapis.com%2fauth%2fdrive.photos.readonly%20https%3a%2f%2fwww.googleapis.com%2fauth%2fpeopleapi.readonly\n",
            "\n",
            "Enter your authorization code:\n",
            "··········\n",
            "Mounted at /content/drive\n"
          ],
          "name": "stdout"
        }
      ]
    },
    {
      "cell_type": "markdown",
      "metadata": {
        "id": "uU0hREy6eYBs",
        "colab_type": "text"
      },
      "source": [
        "Download the dataset and extract into Google drive to access with colab."
      ]
    },
    {
      "cell_type": "code",
      "metadata": {
        "id": "hMESbipbcR-0",
        "colab_type": "code",
        "outputId": "bddf67d3-d5d8-4ac3-9878-ed50f73155f6",
        "colab": {
          "base_uri": "https://localhost:8080/",
          "height": 219
        }
      },
      "source": [
        "!wget https://www.robots.ox.ac.uk/~vgg/data/text/mjsynth.tar.gz\n",
        "!tar -zxf '/content/mjsynth.tar.gz'\n",
        "!mkdir '/content/drive/My Drive/Scene text recognition/data'\n",
        "!cp -r /content/mnt/ramdisk/max/90kDICT32px/[1]* '/content/drive/My Drive/Scene text recognition/data'"
      ],
      "execution_count": 0,
      "outputs": [
        {
          "output_type": "stream",
          "text": [
            "--2019-07-01 08:46:03--  https://www.robots.ox.ac.uk/~vgg/data/text/mjsynth.tar.gz\n",
            "Resolving www.robots.ox.ac.uk (www.robots.ox.ac.uk)... 129.67.94.2\n",
            "Connecting to www.robots.ox.ac.uk (www.robots.ox.ac.uk)|129.67.94.2|:443... connected.\n",
            "HTTP request sent, awaiting response... 200 OK\n",
            "Length: 10678411583 (9.9G) [application/x-gzip]\n",
            "Saving to: ‘mjsynth.tar.gz’\n",
            "\n",
            "mjsynth.tar.gz      100%[===================>]   9.94G  11.5MB/s    in 14m 55s \n",
            "\n",
            "2019-07-01 09:01:00 (11.4 MB/s) - ‘mjsynth.tar.gz’ saved [10678411583/10678411583]\n",
            "\n"
          ],
          "name": "stdout"
        }
      ]
    },
    {
      "cell_type": "code",
      "metadata": {
        "id": "07Zhep8l3dZS",
        "colab_type": "code",
        "colab": {}
      },
      "source": [
        "# Move the annotation file to Google drive\n",
        "!cp '/content/mnt/ramdisk/max/90kDICT32px/annotation.txt' '/content/drive/My Drive/Scene text recognition/annotation.txt'"
      ],
      "execution_count": 0,
      "outputs": []
    },
    {
      "cell_type": "code",
      "metadata": {
        "id": "-nTCCrq0iSNJ",
        "colab_type": "code",
        "outputId": "af9bf96f-1f8d-4b07-a6ab-62becf2abf9f",
        "colab": {
          "base_uri": "https://localhost:8080/",
          "height": 201
        }
      },
      "source": [
        "!tail '/content/mnt/ramdisk/max/90kDICT32px/annotation.txt'"
      ],
      "execution_count": 0,
      "outputs": [
        {
          "output_type": "stream",
          "text": [
            "./1/1/10_besots_7149.jpg 7149\n",
            "./1/1/9_Sensibly_69429.jpg 69429\n",
            "./1/1/8_Sandra_67698.jpg 67698\n",
            "./1/1/7_Bombastic_8610.jpg 8610\n",
            "./1/1/6_embracing_25311.jpg 25311\n",
            "./1/1/5_minion_48634.jpg 48634\n",
            "./1/1/4_underbellies_82078.jpg 82078\n",
            "./1/1/3_JERKIER_41423.jpg 41423\n",
            "./1/1/2_Senoritas_69404.jpg 69404\n",
            "./1/1/1_pontifically_58805.jpg 58805\n"
          ],
          "name": "stdout"
        }
      ]
    },
    {
      "cell_type": "code",
      "metadata": {
        "id": "pMLNW552GcwX",
        "colab_type": "code",
        "colab": {}
      },
      "source": [
        "# Get all letters, digits and punctutation from the string class\n",
        "labels=string.punctuation+string.ascii_letters+string.digits\n",
        "labels=list(labels)+['<sos>','<eos>']\n",
        "\n",
        "label2idx={val:i for i,val in enumerate(labels)}\n",
        "idx2label={i:val for i,val in enumerate(labels)}\n",
        "vocab_size=len(label2idx)"
      ],
      "execution_count": 0,
      "outputs": []
    },
    {
      "cell_type": "code",
      "metadata": {
        "id": "U0Ile_v7HFSY",
        "colab_type": "code",
        "colab": {}
      },
      "source": [
        "grads = {}\n",
        "def save_grad(name):\n",
        "    def hook(grad):\n",
        "        grads[name] = grad\n",
        "    return hook"
      ],
      "execution_count": 0,
      "outputs": []
    },
    {
      "cell_type": "code",
      "metadata": {
        "id": "rh2v9CSWwuiD",
        "colab_type": "code",
        "colab": {}
      },
      "source": [
        "def normalize(x,mean=[0.5, 0.5, 0.5],std=[0.5, 0.5, 0.5]):\n",
        "    mean=torch.tensor(mean)\n",
        "    std=torch.tensor(std)\n",
        "    return (x-mean)/std\n",
        "    \n",
        "def denormalize(x,mean=[0.5, 0.5, 0.5],std=[0.5, 0.5, 0.5]):\n",
        "    mean=torch.tensor(mean)\n",
        "    std=torch.tensor(std)\n",
        "    return x*std+mean\n",
        "    \n",
        "# changes dim of x from (w,h,3)->(1,3,w,h) to easily pass through model\n",
        "def img2passable(x):\n",
        "    x=x.permute((2,0,1))\n",
        "    x=x.unsqueeze(0)\n",
        "    return x\n",
        "\n",
        "# inverse of img_to_passable\n",
        "# converts (1,3,w,h) to (w,h,3)\n",
        "def passable2img(x):\n",
        "    x=x.squeeze(0)\n",
        "    x=x.permute((1,2,0))\n",
        "    return x\n",
        "\n",
        "# x is list of labels and output is list of indices\n",
        "def labels2idx(x):\n",
        "    return [label2idx[i.item()] for i in x]\n",
        "\n",
        "def idx2labels(x):\n",
        "    return [idx2label[i.item()] for i in x]\n",
        "\n",
        "# x is list of indices\n",
        "# returns string of text\n",
        "def get_label(x):\n",
        "    return ''.join(idx2labels(x)[:-1])  # Removes <eos>"
      ],
      "execution_count": 0,
      "outputs": []
    },
    {
      "cell_type": "code",
      "metadata": {
        "id": "AdnMmajFd3u0",
        "colab_type": "code",
        "colab": {}
      },
      "source": [
        "# Make all models\n",
        "\n",
        "# Create residual block\n",
        "class unit(nn.Module):\n",
        "    def __init__(self, in_channels, out_channels):\n",
        "        super(unit,self).__init__()\n",
        "        \n",
        "        self.BN1=nn.BatchNorm2d(in_channels)\n",
        "        self.BN2=nn.BatchNorm2d(out_channels)\n",
        "        self.conv1x1=nn.Conv2d(in_channels, out_channels, 1)\n",
        "        self.conv3x3=nn.Conv2d(out_channels, out_channels, 3, padding=1)\n",
        "        \n",
        "    def forward(self,x):\n",
        "        y=self.conv1x1(F.relu(self.BN1(x)))\n",
        "        y=self.conv3x3(F.relu(self.BN2(y)))\n",
        "        # y=self.conv1x1(F.relu(x))\n",
        "        # y=self.conv3x3(F.relu(y))\n",
        "        # x=torch.cat((x,y),dim=1)\n",
        "        x=x+y\n",
        "        return x\n",
        "    \n",
        "# Create encoder CNN\n",
        "class Encoder_CNN(nn.Module):\n",
        "    def __init__(self):\n",
        "        super(Encoder_CNN,self).__init__()\n",
        "        self.b0=nn.Conv2d(3,32,3,padding=1)\n",
        "\n",
        "        self.conv01=nn.Conv2d(32,32,3,stride=2,padding=1)\n",
        "        self.b1=nn.Sequential(unit(32,32),unit(32,32),unit(32,32))\n",
        "        \n",
        "        self.conv12=nn.Conv2d(32,64,3,stride=2,padding=1)\n",
        "        self.b2=nn.Sequential(unit(64,64),unit(64,64),unit(64,64),unit(64,64))\n",
        "                \n",
        "        self.conv23=nn.Conv2d(64,128,3,stride=(2,1),padding=1)\n",
        "        self.b3=nn.Sequential(unit(128,128),unit(128,128),unit(128,128),unit(128,128),unit(128,128),unit(128,128))\n",
        "        \n",
        "        self.conv34=nn.Conv2d(128,256,3,stride=(2,1),padding=1)\n",
        "        self.b4=nn.Sequential(unit(256,256),unit(256,256),unit(256,256),unit(256,256),unit(256,256),unit(256,256))\n",
        "        \n",
        "        self.conv45=nn.Conv2d(256,512,3,stride=(2,1),padding=1)\n",
        "        self.b5=nn.Sequential(unit(512,512),unit(512,512),unit(512,512))\n",
        "        \n",
        "    def forward(self,x):\n",
        "        x=self.b0(x)\n",
        "        x=self.b1(self.conv01(F.relu(x)))\n",
        "        x=self.b2(self.conv12(F.relu(x)))\n",
        "        x=self.b3(self.conv23(F.relu(x)))\n",
        "        x=self.b4(self.conv34(F.relu(x)))\n",
        "        x=self.b5(self.conv45(F.relu(x)))\n",
        "        return x\n",
        "        \n",
        "# Create decoder LSTM\n",
        "class Decoder(nn.Module):\n",
        "    def __init__(self):\n",
        "        super(Decoder,self).__init__()\n",
        "        \n",
        "        embed_size=round(vocab_size**0.25)\n",
        "\n",
        "        self.lstm_cell=nn.LSTMCell(embed_size+512,512) \n",
        "        self.embeddings=nn.Embedding(vocab_size,embed_size)\n",
        "        self.ench=nn.Linear(512,256)   # V in paper\n",
        "        self.dech=nn.Linear(512,256)   # W in paper\n",
        "        self.w=nn.Linear(256,1,bias=False)\n",
        "        self.lin1=nn.Linear(512,256)\n",
        "        self.linout=nn.Linear(256,vocab_size)\n",
        "            \n",
        "            \n",
        "    # enc_h is all encoder hidden states (N,seq_len,512)\n",
        "    # h is last hidden state of encoder for all layers (num_layers*directions,N,256)\n",
        "    # c is last cell state of encoder for all layers (num_layers*directions,N,256)\n",
        "    def forward(self,enc_h,h,c,labels,lengths):\n",
        "        h=h[2:].transpose(0,1).contiguous()   # take last layer only\n",
        "        h=h.view(h.size(0),-1)    # (N,512)\n",
        "        c=c[2:].transpose(0,1).contiguous()\n",
        "        c=c.view(c.size(0),-1)    # (N,512)\n",
        "        \n",
        "        max_length=max(lengths).item()\n",
        "        batch_size=len(labels)\n",
        "        \n",
        "        inp=torch.ones((batch_size),dtype=torch.long,device=device)*label2idx['<sos>']  # input at t=1 is <sos> \n",
        "        out_list,alpha_list=[],[]\n",
        "        for t in range(max_length):\n",
        "            inp=self.embeddings(inp)\n",
        "            g,alpha=self.step(enc_h,h)\n",
        "            h,c=self.lstm_cell(torch.cat((inp,g),dim=1),(h,c))\n",
        "            out=self.linout(F.relu(self.lin1(h)))\n",
        "            \n",
        "            inp=labels[:,t]                       # previous output is current input\n",
        "            out_list.append(out.unsqueeze(1))     # adding time dimension\n",
        "            alpha_list.append(alpha.unsqueeze(1)) # adding time dimension\n",
        "            \n",
        "        out_list=torch.cat(out_list,dim=1)   \n",
        "        alpha_list=torch.cat(alpha_list,dim=1)   \n",
        "        # out_list=F.log_softmax(out_list,dim=2)\n",
        "        return out_list,alpha_list\n",
        "    \n",
        "    # generates glimpse vector between decoder's prev hidden state and all encoder hidden states for a single t\n",
        "    def step(self,enc_h,h):\n",
        "        h=h.unsqueeze(1)\n",
        "        e=self.w(torch.tanh(self.dech(h)+self.ench(enc_h)))\n",
        "        e=e.squeeze(-1)\n",
        "        alpha=torch.softmax(e,dim=1)\n",
        "        g=torch.einsum('bi,bij->bj',alpha,enc_h)\n",
        "        return g, alpha\n",
        "        \n",
        "# Combines both the CNN encoder and LSTM decoder to produce final output \n",
        "class Recognition(nn.Module):\n",
        "    def __init__(self):\n",
        "        super(Recognition,self).__init__()\n",
        "        \n",
        "        self.enc_cnn=Encoder_CNN()\n",
        "        self.enc_rnn=nn.LSTM(512,256,num_layers=2,batch_first=True,bidirectional=True)\n",
        "#         self.lin1=nn.Linear(512,256)\n",
        "        self.decoder1=Decoder()\n",
        "        self.decoder2=Decoder()    \n",
        "        \n",
        "    def forward(self,x,flabels,rlabels,lengths):\n",
        "        x=self.enc_cnn(x)\n",
        "        x=x.permute((0,3,1,2)).squeeze(-1)   # reshapes to (batch_size,seq_length,feature_length)\n",
        "        out,(h,c) =self.enc_rnn(x)\n",
        "        fout_list, falpha_list=self.decoder1(out,h,c,flabels,lengths)      # forward decoder\n",
        "        rout_list, ralpha_list=self.decoder2(out,h,c,rlabels,lengths)      # backward decoder\n",
        "#         mask=self.create_mask(lengths)\n",
        "#         output_list[~mask]=0  #np.float('-inf')\n",
        "#         out=F.relu(self.lin1(out))     # try batch norm here \n",
        "        return fout_list, rout_list, falpha_list\n",
        "    \n",
        "    def create_mask(self,lengths):\n",
        "        mask=torch.arange(max(lengths)).expand((len(lengths),-1)).to(device)\n",
        "        mask=(mask<lengths.unsqueeze(-1))\n",
        "        return mask"
      ],
      "execution_count": 0,
      "outputs": []
    },
    {
      "cell_type": "code",
      "metadata": {
        "id": "fz3uZySI-BFg",
        "colab_type": "code",
        "colab": {}
      },
      "source": [
        "def preprocess(I,model):\n",
        "    # One time cost only \n",
        "    x=model.enc_cnn(img2passable(I))\n",
        "    x=x.permute((0,3,1,2)).squeeze(-1)    # reshapes to (batch_size,seq_length,feature_length)\n",
        "    enc_h,(h,c) = model.enc_rnn(x)\n",
        "    h=h[2:].transpose(0,1).contiguous()   # take last layer only\n",
        "    h=h.view(h.size(0),-1)    # (1,512)\n",
        "    c=c[2:].transpose(0,1).contiguous()\n",
        "    c=c.view(c.size(0),-1)    # (1,512)\n",
        "    inp=torch.ones((1),dtype=torch.long, device=device)*label2idx['<sos>']  # input at t=1 is <sos> \n",
        "    return inp,h,c\n",
        "\n",
        "\n",
        "def decode(model,inp,h,c):\n",
        "    inp=model.decoder1.embeddings(inp)\n",
        "    g,_=model.decoder1.step(enc_h,h)\n",
        "    h,c=model.decoder1.lstm_cell(torch.cat((inp,g),dim=1),(h,c))\n",
        "    out=model.decoder1.linout(F.relu(model.decoder1.lin1(h)))\n",
        "    return out, h, c\n",
        "\n",
        "# Decodes the given sequence logits\n",
        "# pred=(seq_len,vocab_size), k=beam width\n",
        "# if k=1 => greedy \n",
        "# if 1<k<t => beam search  \n",
        "# if k=t => brute-force \n",
        "def decoder(pred,k=1):    \n",
        "    if k==1:                   # Greedy Search   # TODO: make it for input as image only\n",
        "        for t in range(pred.size(0)):\n",
        "            i=torch.argmax(pred[t])\n",
        "            if idx2label[i.item()]!='<eos>':\n",
        "                print(idx2label[i.item()],end='')\n",
        "\n",
        "    elif k!=pred.size(0):      # Beam Search TODO\n",
        "        inp,h,c=preprocess(I,model)\n",
        "        out,h,c=decode(model,inp,h,c)\n",
        "        val,ind=torch.topk(out,k,largest=True)\n",
        "        hist=[]\n",
        "        labels=idx2labels(ind)\n",
        "        for i in range(len(labels)):\n",
        "            hist.append((labels[i],val[i],h,c))  # label,prob,h,c"
      ],
      "execution_count": 0,
      "outputs": []
    },
    {
      "cell_type": "markdown",
      "metadata": {
        "id": "9sxIt8p6mh7y",
        "colab_type": "text"
      },
      "source": [
        "## Start TRAINING"
      ]
    },
    {
      "cell_type": "markdown",
      "metadata": {
        "id": "oQaM76eTEb9E",
        "colab_type": "text"
      },
      "source": [
        "Change the image and model paths below"
      ]
    },
    {
      "cell_type": "code",
      "metadata": {
        "id": "8ckVIWqkd3Zd",
        "colab_type": "code",
        "colab": {}
      },
      "source": [
        "train_transforms=transforms.Compose([\n",
        "        transforms.Resize((32,100)),\n",
        "        transforms.ToTensor(),\n",
        "        transforms.Normalize([0.5,0.5,0.5], [0.5,0.5,0.5])])\n",
        "\n",
        "valid_transforms=transforms.Compose([\n",
        "        transforms.Resize((32,100)),\n",
        "        transforms.ToTensor(),\n",
        "        transforms.Normalize([0.5,0.5,0.5], [0.5,0.5,0.5])])\n",
        "\n",
        "def my_collate(batch):\n",
        "    data=[i[0].unsqueeze(0) for i in batch]\n",
        "    flabels=[i[1] for i in batch]\n",
        "    rlabels=[i[2] for i in batch]\n",
        "    lengths=[i[3] for i in batch]\n",
        "    flabels=torch.LongTensor([i+[label2idx['<eos>']]*(max(lengths)-len(i)) for i in flabels])   # pad with <eos> tokens\n",
        "    rlabels=torch.LongTensor([i+[label2idx['<sos>']]*(max(lengths)-len(i)) for i in rlabels])   # pad with <sos> tokens\n",
        "    return torch.cat(data,dim=0), flabels, rlabels, torch.LongTensor(lengths)\n",
        "    \n",
        "class dataset(datasets.ImageFolder):\n",
        "    def __getitem__(self, i):\n",
        "        original_tuple = super(dataset, self).__getitem__(i)\n",
        "        path = self.imgs[i][0]\n",
        "        label=path.split('_')[1]\n",
        "        flabel=list(label)+['<eos>']          # forward output labels\n",
        "        rlabel=list(label)[::-1]+['<sos>']    # reverse output labels\n",
        "        flabel=[label2idx[i] for i in flabel]\n",
        "        rlabel=[label2idx[i] for i in rlabel]\n",
        "        return original_tuple[0],flabel,rlabel,len(flabel)\n",
        "\n",
        "\n",
        "IMG_PATH='/content/drive/My Drive/Scene text recognition/data/'\n",
        "train_set=dataset(IMG_PATH, train_transforms)\n",
        "valid_set=dataset(IMG_PATH, valid_transforms)\n",
        "# test_set=dataset('/content/images/',test_df,valid_transforms,istest=True)\n",
        "\n",
        "batch_size=64\n",
        "train_loader=DataLoader(train_set, batch_size=batch_size, shuffle=True,collate_fn=my_collate,pin_memory=True,num_workers=8)\n",
        "valid_loader=DataLoader(valid_set, batch_size=batch_size)\n",
        "# test_loader=DataLoader(test_set, batch_size=8)"
      ],
      "execution_count": 0,
      "outputs": []
    },
    {
      "cell_type": "code",
      "metadata": {
        "id": "xFSlaSN_ELhZ",
        "colab_type": "code",
        "colab": {}
      },
      "source": [
        "# Load the model, optimiser and the loss function\n",
        "model=Recognition().to(device)\n",
        "optimiser=optim.Adam(model.parameters(),lr=1e-4)\n",
        "lossfn=nn.CrossEntropyLoss()\n",
        "\n",
        "def calc_loss(pred,labels):\n",
        "    loss=0\n",
        "    for i in range(pred.size(1)):     # seq_length dim\n",
        "        loss+=lossfn(pred[:,i],labels[:,i])\n",
        "    return loss"
      ],
      "execution_count": 0,
      "outputs": []
    },
    {
      "cell_type": "code",
      "metadata": {
        "id": "rPlQXAVhd3UB",
        "colab_type": "code",
        "outputId": "75e6c897-f3d9-48ed-c476-59ec472c4aa1",
        "colab": {
          "base_uri": "https://localhost:8080/",
          "height": 918
        }
      },
      "source": [
        "# TRAIN THE MODEL\n",
        "epochs=50\n",
        "loss_h=[]\n",
        "\n",
        "for e in range(epoch,epochs):\n",
        "    tot_loss=0\n",
        "    for batch,flabels,rlabels,lengths in train_loader:\n",
        "        batch=batch.to(device)\n",
        "        flabels=flabels.to(device)\n",
        "        rlabels=rlabels.to(device)\n",
        "        lengths=lengths.to(device)\n",
        "        optimiser.zero_grad()\n",
        "\n",
        "        fpred,rpred,alphas=model(batch,flabels,rlabels,lengths)   \n",
        "        loss=0.5*(calc_loss(fpred,flabels)+calc_loss(rpred,rlabels))\n",
        "        loss.backward()\n",
        "        optimiser.step()\n",
        "        tot_loss+=loss.item()\n",
        "    \n",
        "    torch.save({\n",
        "            'epoch': e,\n",
        "            'model_state_dict': model.state_dict(),\n",
        "            'optimiser_state_dict': optimiser.state_dict(),\n",
        "            'loss_h': loss_h,\n",
        "            }, '/content/drive/My Drive/Scene text recognition/text_recognition_revdecoder_epoch{}.pth'.format(e))\n",
        "    \n",
        "    tot_loss/=len(train_loader)\n",
        "    loss_h.append(tot_loss)\n",
        "    print('Loss in epoch {} = {}'.format(e, tot_loss))"
      ],
      "execution_count": 0,
      "outputs": [
        {
          "output_type": "stream",
          "text": [
            "TRaining starTeD\n",
            "loss in epoch 0 = 29.65858753876795\n",
            "\n",
            "loss in epoch 1 = 24.384523937569867\n",
            "\n",
            "loss in epoch 2 = 21.026255617982287\n",
            "\n",
            "loss in epoch 3 = 13.813699123260117\n",
            "\n",
            "loss in epoch 4 = 7.393409310928237\n",
            "\n",
            "loss in epoch 5 = 4.892732756441384\n",
            "\n",
            "loss in epoch 6 = 3.809656375640105\n",
            "\n",
            "loss in epoch 7 = 3.1411799066603767\n",
            "\n",
            "loss in epoch 8 = 2.7166296441809266\n",
            "\n",
            "loss in epoch 9 = 2.383363974399224\n",
            "\n",
            "loss in epoch 10 = 2.1281862535531166\n",
            "\n",
            "loss in epoch 11 = 1.9076894444694197\n",
            "\n",
            "loss in epoch 12 = 1.7328410596628314\n",
            "\n",
            "loss in epoch 13 = 1.5932954653562477\n",
            "\n",
            "loss in epoch 14 = 1.4662350916888431\n",
            "\n",
            "loss in epoch 15 = 1.335463422183373\n",
            "\n",
            "loss in epoch 16 = 1.2656685027645513\n",
            "\n",
            "loss in epoch 17 = 1.1592571245216572\n",
            "\n",
            "loss in epoch 18 = 1.0766785509065524\n",
            "\n",
            "loss in epoch 19 = 0.9982552102587557\n",
            "\n",
            "loss in epoch 20 = 0.9267449543869145\n",
            "\n",
            "loss in epoch 21 = 0.8639588951578078\n",
            "\n",
            "loss in epoch 22 = 0.8272643280058483\n",
            "\n",
            "loss in epoch 23 = 0.74009816303152\n",
            "\n",
            "loss in epoch 24 = 0.7178446544218764\n",
            "\n",
            "loss in epoch 25 = 0.6592548187736977\n",
            "\n"
          ],
          "name": "stdout"
        }
      ]
    },
    {
      "cell_type": "code",
      "metadata": {
        "id": "8klKKRqFP79-",
        "colab_type": "code",
        "outputId": "bb234507-d1d1-4e77-a247-5da3eed9a36a",
        "colab": {
          "base_uri": "https://localhost:8080/",
          "height": 296
        }
      },
      "source": [
        "# LOADING THE MODEL\n",
        "PATH='/content/drive/My Drive/Scene text recognition/text_recognition_revdecoder_epoch25.pth'\n",
        "checkpoint = torch.load(PATH)\n",
        "model.load_state_dict(checkpoint['model_state_dict'])\n",
        "optimiser.load_state_dict(checkpoint['optimiser_state_dict'])\n",
        "epoch = checkpoint['epoch']\n",
        "loss_h=checkpoint['loss_h']\n",
        "\n",
        "print(\"Model was saved at epoch:\",epoch)\n",
        "plt.plot(loss_h)\n",
        "plt.xlabel('Epochs')\n",
        "plt.ylabel('Loss')\n",
        "plt.show()"
      ],
      "execution_count": 0,
      "outputs": [
        {
          "output_type": "stream",
          "text": [
            "Model was saved at epoch: 25\n"
          ],
          "name": "stdout"
        },
        {
          "output_type": "display_data",
          "data": {
            "image/png": "[encoded data removed]",
            "text/plain": [
              "<Figure size 432x288 with 1 Axes>"
            ]
          },
          "metadata": {
            "tags": []
          }
        }
      ]
    }
  ]
}