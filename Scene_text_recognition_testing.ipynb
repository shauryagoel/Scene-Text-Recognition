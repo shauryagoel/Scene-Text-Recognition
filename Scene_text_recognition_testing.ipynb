{
  "nbformat": 4,
  "nbformat_minor": 0,
  "metadata": {
    "colab": {
      "name": "Scene text recognition testing",
      "provenance": [],
      "collapsed_sections": []
    },
    "kernelspec": {
      "name": "python3",
      "display_name": "Python 3"
    },
    "accelerator": "GPU"
  },
  "cells": [
    {
      "cell_type": "markdown",
      "metadata": {
        "id": "RUH2IjM7Ar_0",
        "colab_type": "text"
      },
      "source": [
        "This notebook contains testing code for recognising text from images.  "
      ]
    },
    {
      "cell_type": "code",
      "metadata": {
        "id": "Y2Mn2yVlAhG9",
        "colab_type": "code",
        "colab": {}
      },
      "source": [
        "# Import all libraries\n",
        "import numpy as np\n",
        "import matplotlib.pyplot as plt\n",
        "from matplotlib.offsetbox import OffsetImage, AnnotationBbox\n",
        "import pandas as pd\n",
        "\n",
        "import torch\n",
        "import torch.nn as nn\n",
        "import torch.nn.functional as F\n",
        "import torch.optim as optim\n",
        "from torch.utils.data import Dataset, DataLoader\n",
        "import torchvision\n",
        "import torchvision.datasets as datasets\n",
        "import torchvision.transforms as transforms\n",
        "import torchvision.models as models\n",
        "\n",
        "from sklearn.model_selection import train_test_split\n",
        "\n",
        "from pathlib import Path\n",
        "from skimage import io, transform\n",
        "from PIL import Image\n",
        "import copy,os,sys\n",
        "import random\n",
        "import math\n",
        "import pickle\n",
        "import string\n",
        "\n",
        "device = torch.device(\"cuda\" if torch.cuda.is_available() else \"cpu\")\n",
        "\n",
        "%reload_ext autoreload\n",
        "%autoreload 2\n",
        "%matplotlib inline\n",
        "\n",
        "import warnings\n",
        "warnings.filterwarnings('ignore')"
      ],
      "execution_count": 0,
      "outputs": []
    },
    {
      "cell_type": "code",
      "metadata": {
        "id": "_1Dlkf81Atzr",
        "colab_type": "code",
        "colab": {}
      },
      "source": [
        "# Make all models\n",
        "\n",
        "# Create residual block\n",
        "class unit(nn.Module):\n",
        "    def __init__(self, in_channels, out_channels):\n",
        "        super(unit,self).__init__()\n",
        "        \n",
        "        self.BN1=nn.BatchNorm2d(in_channels)\n",
        "        self.BN2=nn.BatchNorm2d(out_channels)\n",
        "        self.conv1x1=nn.Conv2d(in_channels, out_channels, 1)\n",
        "        self.conv3x3=nn.Conv2d(out_channels, out_channels, 3, padding=1)\n",
        "        \n",
        "    def forward(self,x):\n",
        "        y=self.conv1x1(F.relu(self.BN1(x)))\n",
        "        y=self.conv3x3(F.relu(self.BN2(y)))\n",
        "        # y=self.conv1x1(F.relu(x))\n",
        "        # y=self.conv3x3(F.relu(y))\n",
        "        # x=torch.cat((x,y),dim=1)\n",
        "        x=x+y\n",
        "        return x\n",
        "    \n",
        "# Create encoder CNN\n",
        "class Encoder_CNN(nn.Module):\n",
        "    def __init__(self):\n",
        "        super(Encoder_CNN,self).__init__()\n",
        "        self.b0=nn.Conv2d(3,32,3,padding=1)\n",
        "\n",
        "        self.conv01=nn.Conv2d(32,32,3,stride=2,padding=1)\n",
        "        self.b1=nn.Sequential(unit(32,32),unit(32,32),unit(32,32))\n",
        "        \n",
        "        self.conv12=nn.Conv2d(32,64,3,stride=2,padding=1)\n",
        "        self.b2=nn.Sequential(unit(64,64),unit(64,64),unit(64,64),unit(64,64))\n",
        "                \n",
        "        self.conv23=nn.Conv2d(64,128,3,stride=(2,1),padding=1)\n",
        "        self.b3=nn.Sequential(unit(128,128),unit(128,128),unit(128,128),unit(128,128),unit(128,128),unit(128,128))\n",
        "        \n",
        "        self.conv34=nn.Conv2d(128,256,3,stride=(2,1),padding=1)\n",
        "        self.b4=nn.Sequential(unit(256,256),unit(256,256),unit(256,256),unit(256,256),unit(256,256),unit(256,256))\n",
        "        \n",
        "        self.conv45=nn.Conv2d(256,512,3,stride=(2,1),padding=1)\n",
        "        self.b5=nn.Sequential(unit(512,512),unit(512,512),unit(512,512))\n",
        "        \n",
        "    def forward(self,x):\n",
        "        x=self.b0(x)\n",
        "        x=self.b1(self.conv01(F.relu(x)))\n",
        "        x=self.b2(self.conv12(F.relu(x)))\n",
        "        x=self.b3(self.conv23(F.relu(x)))\n",
        "        x=self.b4(self.conv34(F.relu(x)))\n",
        "        x=self.b5(self.conv45(F.relu(x)))\n",
        "        return x\n",
        "        \n",
        "# Create decoder LSTM\n",
        "class Decoder(nn.Module):\n",
        "    def __init__(self):\n",
        "        super(Decoder,self).__init__()\n",
        "        \n",
        "        embed_size=round(vocab_size**0.25)\n",
        "\n",
        "        self.lstm_cell=nn.LSTMCell(embed_size+512,512) \n",
        "        self.embeddings=nn.Embedding(vocab_size,embed_size)\n",
        "        self.ench=nn.Linear(512,256)   # V in paper\n",
        "        self.dech=nn.Linear(512,256)   # W in paper\n",
        "        self.w=nn.Linear(256,1,bias=False)\n",
        "        self.lin1=nn.Linear(512,256)\n",
        "        self.linout=nn.Linear(256,vocab_size)\n",
        "            \n",
        "            \n",
        "    # enc_h is all encoder hidden states (N,seq_len,512)\n",
        "    # h is last hidden state of encoder for all layers (num_layers*directions,N,256)\n",
        "    # c is last cell state of encoder for all layers (num_layers*directions,N,256)\n",
        "    def forward(self,enc_h,h,c):\n",
        "        h=h[2:].transpose(0,1).contiguous()   # take last layer only\n",
        "        h=h.view(h.size(0),-1)    # (N,512)\n",
        "        c=c[2:].transpose(0,1).contiguous()\n",
        "        c=c.view(c.size(0),-1)    # (N,512)\n",
        "        \n",
        "        inp=torch.ones((1),dtype=torch.long,device=device)*label2idx['<sos>']  # input at t=1 is <sos> \n",
        "        out_list, alpha_list=[], []\n",
        "\n",
        "        # for t in range(3):\n",
        "        # Run till eos is reached or 20 characters are predicted\n",
        "        while inp[0]!=label2idx['<eos>']:\n",
        "            if len(out_list)==20:\n",
        "                break\n",
        "            inp=self.embeddings(inp)\n",
        "            g,alpha=self.step(enc_h,h)\n",
        "            h,c=self.lstm_cell(torch.cat((inp,g),dim=1),(h,c))\n",
        "            out=self.linout(F.relu(self.lin1(h)))\n",
        "            inp=torch.argmax(out).unsqueeze(0)\n",
        "            out_list.append(inp.squeeze())       # adding time dimension\n",
        "            alpha_list.append(alpha.unsqueeze(1))   # adding time dimension\n",
        "            \n",
        "        # out_list=torch.cat(out_list,dim=1)   \n",
        "        alpha_list=torch.cat(alpha_list,dim=1)   \n",
        "        # out_list=F.log_softmax(out_list,dim=2)\n",
        "        return out_list,alpha_list\n",
        "    \n",
        "    # generates glimpse vector between decoder's prev hidden state and all encoder hidden states for a single t\n",
        "    def step(self,enc_h,h):\n",
        "        h=h.unsqueeze(1)\n",
        "        e=self.w(torch.tanh(self.dech(h)+self.ench(enc_h)))\n",
        "        e=e.squeeze(-1)\n",
        "        alpha=torch.softmax(e,dim=1)\n",
        "        g=torch.einsum('bi,bij->bj',alpha,enc_h)\n",
        "        return g, alpha\n",
        "        \n",
        "# Combines both the CNN encoder and LSTM decoder to produce final output \n",
        "class Recognition(nn.Module):\n",
        "    def __init__(self):\n",
        "        super(Recognition,self).__init__()\n",
        "        \n",
        "        self.enc_cnn=Encoder_CNN()\n",
        "        self.enc_rnn=nn.LSTM(512,256,num_layers=2,batch_first=True,bidirectional=True)\n",
        "#         self.lin1=nn.Linear(512,256)\n",
        "        self.decoder1=Decoder()\n",
        "        self.decoder2=Decoder()    \n",
        "        \n",
        "    def forward(self,x):\n",
        "        x=self.enc_cnn(x)\n",
        "        x=x.permute((0,3,1,2)).squeeze(-1)   # reshapes to (batch_size,seq_length,feature_length)\n",
        "        out,(h,c) =self.enc_rnn(x)\n",
        "        fout_list, falpha_list=self.decoder1(out,h,c)      # forward decoder\n",
        "        return fout_list, falpha_list"
      ],
      "execution_count": 0,
      "outputs": []
    },
    {
      "cell_type": "code",
      "metadata": {
        "id": "HJFWUYcpA6xz",
        "colab_type": "code",
        "colab": {}
      },
      "source": [
        "# Get all letters, digits and punctutation from the string class\n",
        "labels=string.punctuation+string.ascii_letters+string.digits\n",
        "labels=list(labels)+['<sos>','<eos>']\n",
        "\n",
        "label2idx={val:i for i,val in enumerate(labels)}\n",
        "idx2label={i:val for i,val in enumerate(labels)}\n",
        "vocab_size=len(label2idx)\n",
        "\n",
        "\n",
        "def normalize(x,mean=[0.5, 0.5, 0.5],std=[0.5, 0.5, 0.5]):\n",
        "    mean=torch.tensor(mean).to(device)\n",
        "    std=torch.tensor(std).to(device)\n",
        "    return (x-mean)/std\n",
        "    \n",
        "def denormalize(x,mean=[0.5, 0.5, 0.5],std=[0.5, 0.5, 0.5]):\n",
        "    mean=torch.tensor(mean).to(device)\n",
        "    std=torch.tensor(std).to(device)\n",
        "    return x*std+mean\n",
        "    \n",
        "# changes dim of x from (w,h,3)->(1,3,w,h) to easily pass through model\n",
        "def img2passable(x):\n",
        "    x=x.permute((2,0,1))\n",
        "    x=x.unsqueeze(0)\n",
        "    return x\n",
        "\n",
        "# inverse of img_to_passable\n",
        "# converts (1,3,w,h) to (w,h,3)\n",
        "def passable2img(x):\n",
        "    x=x.squeeze(0)\n",
        "    x=x.permute((1,2,0))\n",
        "    return x\n",
        "\n",
        "# x is list of labels and output is list of indices\n",
        "def labels2idx(x):\n",
        "    return [label2idx[i.item()] for i in x]\n",
        "\n",
        "def idx2labels(x):\n",
        "    return [idx2label[i.item()] for i in x]\n",
        "\n",
        "# x is list of indices\n",
        "# returns string of text\n",
        "def get_label(x):\n",
        "    return ''.join(idx2labels(x)[:-1])  # Removes <eos>"
      ],
      "execution_count": 0,
      "outputs": []
    },
    {
      "cell_type": "code",
      "metadata": {
        "id": "wqLConl6A6j-",
        "colab_type": "code",
        "colab": {}
      },
      "source": [
        "# test_img should be of (32,100,3)\n",
        "# Get output prediction from the model and also the attention weights \n",
        "def get_output(test_img): \n",
        "    test_img=img2passable(normalize(test_img)).to(device)\n",
        "    with torch.no_grad():\n",
        "        return model(test_img)\n",
        "\n",
        "# decodes the prediction given the index labels\n",
        "def decode(prediction):    \n",
        "    for pred in prediction:\n",
        "        if idx2label[pred.item()]!='<eos>':\n",
        "            print(idx2label[pred.item()],end='')"
      ],
      "execution_count": 0,
      "outputs": []
    },
    {
      "cell_type": "code",
      "metadata": {
        "id": "vwByTDJSA6r1",
        "colab_type": "code",
        "colab": {}
      },
      "source": [
        "# load the image\n",
        "def load_image(name):\n",
        "    loader = transforms.Compose([\n",
        "        transforms.Resize((32,100)),   # scale imported image\n",
        "        transforms.ToTensor()])        # transform PIL image to torch tensor\n",
        "\n",
        "    image = Image.open(name)\n",
        "    image = loader(image)\n",
        "    image=image[:3]         # take only the first three channels\n",
        "    return image.float().unsqueeze(0).to(device)\n",
        "\n",
        "# load the model \n",
        "def load_model(model_path):\n",
        "    model = Recognition().to(device)\n",
        "    checkpoint = torch.load(model_path)\n",
        "    model.load_state_dict(checkpoint['model_state_dict'])\n",
        "    model.eval()\n",
        "    return model"
      ],
      "execution_count": 0,
      "outputs": []
    },
    {
      "cell_type": "markdown",
      "metadata": {
        "id": "jR8Cd8ysDx8t",
        "colab_type": "text"
      },
      "source": [
        "Change the below paths for image and model"
      ]
    },
    {
      "cell_type": "code",
      "metadata": {
        "id": "Q4vWKJNZBF94",
        "colab_type": "code",
        "colab": {}
      },
      "source": [
        "img_path='/example.png'\n",
        "model_path ='/text_recognition.pth'         \n",
        "\n",
        "test_img=load_image(img_path)\n",
        "model=load_model(model_path)"
      ],
      "execution_count": 0,
      "outputs": []
    },
    {
      "cell_type": "code",
      "metadata": {
        "id": "nGn6raY0BF3-",
        "colab_type": "code",
        "colab": {
          "base_uri": "https://localhost:8080/",
          "height": 138
        },
        "outputId": "0b9ebc7a-08a0-4c83-fbbd-96b5d988be96"
      },
      "source": [
        "# Show the image\n",
        "fig,ax=plt.subplots()\n",
        "ax.imshow(passable2img(test_img).cpu())\n",
        "ax.set_axis_off()\n",
        "plt.show()"
      ],
      "execution_count": 9,
      "outputs": [
        {
          "output_type": "display_data",
          "data": {
            "image/png": "[encoded data removed]",
            "text/plain": [
              "<Figure size 432x288 with 1 Axes>"
            ]
          },
          "metadata": {
            "tags": []
          }
        }
      ]
    },
    {
      "cell_type": "code",
      "metadata": {
        "id": "E_g3qWvgBbHP",
        "colab_type": "code",
        "colab": {
          "base_uri": "https://localhost:8080/",
          "height": 34
        },
        "outputId": "ef448d9c-7a74-45bb-d751-cc7634374685"
      },
      "source": [
        "# Get decoded output\n",
        "output, alphas = get_output(passable2img(test_img))\n",
        "decode(output)"
      ],
      "execution_count": 11,
      "outputs": [
        {
          "output_type": "stream",
          "text": [
            "NUCLEAR"
          ],
          "name": "stdout"
        }
      ]
    },
    {
      "cell_type": "code",
      "metadata": {
        "id": "TqzqAWQsBbBP",
        "colab_type": "code",
        "colab": {
          "base_uri": "https://localhost:8080/",
          "height": 987
        },
        "outputId": "7b8638f2-5932-4b13-be4c-c0e161bb386a"
      },
      "source": [
        "# Get output with attention at every time step\n",
        "I=passable2img(test_img.detach().cpu()).numpy()\n",
        "for i in range(alphas.size(1)-1):    # last time is for <eos> token\n",
        "    a=F.interpolate(alphas,scale_factor=4,mode='linear')[0,i,:]\n",
        "    a=a.unsqueeze(0).unsqueeze(2)\n",
        "    a=a.expand(32,-1,3)\n",
        "    print(idx2label[output[i].item()])\n",
        "    plt.imshow(a.detach().cpu().numpy()*I)\n",
        "    plt.axis('off')\n",
        "    plt.show()"
      ],
      "execution_count": 15,
      "outputs": [
        {
          "output_type": "stream",
          "text": [
            "N\n"
          ],
          "name": "stdout"
        },
        {
          "output_type": "display_data",
          "data": {
            "image/png": "[encoded data removed]",
            "text/plain": [
              "<Figure size 432x288 with 1 Axes>"
            ]
          },
          "metadata": {
            "tags": []
          }
        },
        {
          "output_type": "stream",
          "text": [
            "U\n"
          ],
          "name": "stdout"
        },
        {
          "output_type": "display_data",
          "data": {
            "image/png": "[encoded data removed]",
            "text/plain": [
              "<Figure size 432x288 with 1 Axes>"
            ]
          },
          "metadata": {
            "tags": []
          }
        },
        {
          "output_type": "stream",
          "text": [
            "C\n"
          ],
          "name": "stdout"
        },
        {
          "output_type": "display_data",
          "data": {
            "image/png": "[encoded data removed]",
            "text/plain": [
              "<Figure size 432x288 with 1 Axes>"
            ]
          },
          "metadata": {
            "tags": []
          }
        },
        {
          "output_type": "stream",
          "text": [
            "L\n"
          ],
          "name": "stdout"
        },
        {
          "output_type": "display_data",
          "data": {
            "image/png": "[encoded data removed]",
            "text/plain": [
              "<Figure size 432x288 with 1 Axes>"
            ]
          },
          "metadata": {
            "tags": []
          }
        },
        {
          "output_type": "stream",
          "text": [
            "E\n"
          ],
          "name": "stdout"
        },
        {
          "output_type": "display_data",
          "data": {
            "image/png": "[encoded data removed]",
            "text/plain": [
              "<Figure size 432x288 with 1 Axes>"
            ]
          },
          "metadata": {
            "tags": []
          }
        },
        {
          "output_type": "stream",
          "text": [
            "A\n"
          ],
          "name": "stdout"
        },
        {
          "output_type": "display_data",
          "data": {
            "image/png": "[encoded data removed]",
            "text/plain": [
              "<Figure size 432x288 with 1 Axes>"
            ]
          },
          "metadata": {
            "tags": []
          }
        },
        {
          "output_type": "stream",
          "text": [
            "R\n"
          ],
          "name": "stdout"
        },
        {
          "output_type": "display_data",
          "data": {
            "image/png": "[encoded data removed]",
            "text/plain": [
              "<Figure size 432x288 with 1 Axes>"
            ]
          },
          "metadata": {
            "tags": []
          }
        }
      ]
    }
  ]
}